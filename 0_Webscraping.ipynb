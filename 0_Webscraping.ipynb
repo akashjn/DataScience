{
 "cells": [
  {
   "cell_type": "markdown",
   "metadata": {},
   "source": [
    "# Data acquisition notebook\n",
    "## CT State EV registration data"
   ]
  },
  {
   "cell_type": "code",
   "execution_count": 3,
   "metadata": {},
   "outputs": [],
   "source": [
    "import pandas as pd \n",
    "import warnings\n",
    "warnings.filterwarnings(\"ignore\")\n",
    "import numpy as np\n",
    "import requests\n",
    "from bs4 import BeautifulSoup"
   ]
  },
  {
   "cell_type": "markdown",
   "metadata": {},
   "source": [
    "# Get data from the url "
   ]
  },
  {
   "cell_type": "code",
   "execution_count": 4,
   "metadata": {},
   "outputs": [],
   "source": [
    "url = 'https://www.atlasevhub.com/materials/state-ev-registration-data/#data'\n",
    "reqs = requests.get(url)\n",
    "soup = BeautifulSoup(reqs.text, 'html.parser')"
   ]
  },
  {
   "cell_type": "code",
   "execution_count": 5,
   "metadata": {},
   "outputs": [],
   "source": [
    "links=[link.get('href') for link in soup.find_all('a') ]\n",
    "data=[i for i in links if len(i.split('/'))>1 and i.split('/')[1]=='public']\n",
    "data=[i for i in data if i.split('.')[-1]=='csv']\n",
    "state_name=[i.split('/')[3].split('_')[0].upper() for i in data]"
   ]
  },
  {
   "cell_type": "code",
   "execution_count": 6,
   "metadata": {},
   "outputs": [
    {
     "name": "stdout",
     "output_type": "stream",
     "text": [
      "['CA', 'CO', 'CT', 'FL', 'MT', 'MI', 'MN', 'NJ', 'NY', 'OR', 'TN', 'TX', 'VT', 'VA', 'WA', 'WI']\n"
     ]
    }
   ],
   "source": [
    "print(state_name)"
   ]
  },
  {
   "cell_type": "code",
   "execution_count": 7,
   "metadata": {},
   "outputs": [],
   "source": [
    "# dt=pd.read_csv('https://www.atlasevhub.com/'+data[0])"
   ]
  },
  {
   "cell_type": "code",
   "execution_count": 8,
   "metadata": {},
   "outputs": [
    {
     "name": "stdout",
     "output_type": "stream",
     "text": [
      "<class 'pandas.core.frame.DataFrame'>\n",
      "RangeIndex: 2542443 entries, 0 to 2542442\n",
      "Data columns (total 9 columns):\n",
      " #   Column                        Dtype  \n",
      "---  ------                        -----  \n",
      " 0   Vehicle ID                    object \n",
      " 1   County GEOID                  object \n",
      " 2   Registration Valid Date       object \n",
      " 3   DMV ID                        int64  \n",
      " 4   DMV Snapshot                  object \n",
      " 5   Registration Expiration Date  float64\n",
      " 6   State Abbreviation            object \n",
      " 7   Geography                     object \n",
      " 8   Vehicle Name                  object \n",
      "dtypes: float64(1), int64(1), object(7)\n",
      "memory usage: 174.6+ MB\n"
     ]
    }
   ],
   "source": [
    "# dt.to_csv(r'./CA_data.csv',index=False)\n",
    "dt=pd.read_csv(r'./CA_data.csv')\n",
    "dt.info()"
   ]
  },
  {
   "cell_type": "code",
   "execution_count": 9,
   "metadata": {},
   "outputs": [
    {
     "data": {
      "text/html": [
       "<div>\n",
       "<style scoped>\n",
       "    .dataframe tbody tr th:only-of-type {\n",
       "        vertical-align: middle;\n",
       "    }\n",
       "\n",
       "    .dataframe tbody tr th {\n",
       "        vertical-align: top;\n",
       "    }\n",
       "\n",
       "    .dataframe thead th {\n",
       "        text-align: right;\n",
       "    }\n",
       "</style>\n",
       "<table border=\"1\" class=\"dataframe\">\n",
       "  <thead>\n",
       "    <tr style=\"text-align: right;\">\n",
       "      <th></th>\n",
       "      <th>Vehicle ID</th>\n",
       "      <th>County GEOID</th>\n",
       "      <th>Registration Valid Date</th>\n",
       "      <th>DMV ID</th>\n",
       "      <th>DMV Snapshot</th>\n",
       "      <th>Registration Expiration Date</th>\n",
       "      <th>State Abbreviation</th>\n",
       "      <th>Geography</th>\n",
       "      <th>Vehicle Name</th>\n",
       "    </tr>\n",
       "  </thead>\n",
       "  <tbody>\n",
       "    <tr>\n",
       "      <th>0</th>\n",
       "      <td>CA-002-03597\\r</td>\n",
       "      <td>06099</td>\n",
       "      <td>2011-01-01</td>\n",
       "      <td>2</td>\n",
       "      <td>CA Registration Data from CA (12/31/2011)</td>\n",
       "      <td>NaN</td>\n",
       "      <td>CA</td>\n",
       "      <td>County</td>\n",
       "      <td>Chevrolet Volt</td>\n",
       "    </tr>\n",
       "    <tr>\n",
       "      <th>1</th>\n",
       "      <td>CA-002-03598\\r</td>\n",
       "      <td>06105</td>\n",
       "      <td>2011-01-01</td>\n",
       "      <td>2</td>\n",
       "      <td>CA Registration Data from CA (12/31/2011)</td>\n",
       "      <td>NaN</td>\n",
       "      <td>CA</td>\n",
       "      <td>County</td>\n",
       "      <td>Nissan Leaf</td>\n",
       "    </tr>\n",
       "    <tr>\n",
       "      <th>2</th>\n",
       "      <td>CA-002-03599\\r</td>\n",
       "      <td>06103</td>\n",
       "      <td>2011-01-01</td>\n",
       "      <td>2</td>\n",
       "      <td>CA Registration Data from CA (12/31/2011)</td>\n",
       "      <td>NaN</td>\n",
       "      <td>CA</td>\n",
       "      <td>County</td>\n",
       "      <td>Chevrolet Volt</td>\n",
       "    </tr>\n",
       "    <tr>\n",
       "      <th>3</th>\n",
       "      <td>CA-002-03600\\r</td>\n",
       "      <td>06099</td>\n",
       "      <td>2011-01-01</td>\n",
       "      <td>2</td>\n",
       "      <td>CA Registration Data from CA (12/31/2011)</td>\n",
       "      <td>NaN</td>\n",
       "      <td>CA</td>\n",
       "      <td>County</td>\n",
       "      <td>Tesla Roadster</td>\n",
       "    </tr>\n",
       "    <tr>\n",
       "      <th>4</th>\n",
       "      <td>CA-002-03601\\r</td>\n",
       "      <td>06099</td>\n",
       "      <td>2011-01-01</td>\n",
       "      <td>2</td>\n",
       "      <td>CA Registration Data from CA (12/31/2011)</td>\n",
       "      <td>NaN</td>\n",
       "      <td>CA</td>\n",
       "      <td>County</td>\n",
       "      <td>Tesla Roadster</td>\n",
       "    </tr>\n",
       "  </tbody>\n",
       "</table>\n",
       "</div>"
      ],
      "text/plain": [
       "       Vehicle ID County GEOID Registration Valid Date  DMV ID  \\\n",
       "0  CA-002-03597\\r        06099              2011-01-01       2   \n",
       "1  CA-002-03598\\r        06105              2011-01-01       2   \n",
       "2  CA-002-03599\\r        06103              2011-01-01       2   \n",
       "3  CA-002-03600\\r        06099              2011-01-01       2   \n",
       "4  CA-002-03601\\r        06099              2011-01-01       2   \n",
       "\n",
       "                                DMV Snapshot  Registration Expiration Date  \\\n",
       "0  CA Registration Data from CA (12/31/2011)                           NaN   \n",
       "1  CA Registration Data from CA (12/31/2011)                           NaN   \n",
       "2  CA Registration Data from CA (12/31/2011)                           NaN   \n",
       "3  CA Registration Data from CA (12/31/2011)                           NaN   \n",
       "4  CA Registration Data from CA (12/31/2011)                           NaN   \n",
       "\n",
       "  State Abbreviation Geography    Vehicle Name  \n",
       "0                 CA    County  Chevrolet Volt  \n",
       "1                 CA    County     Nissan Leaf  \n",
       "2                 CA    County  Chevrolet Volt  \n",
       "3                 CA    County  Tesla Roadster  \n",
       "4                 CA    County  Tesla Roadster  "
      ]
     },
     "execution_count": 9,
     "metadata": {},
     "output_type": "execute_result"
    }
   ],
   "source": [
    "dt.head()"
   ]
  },
  {
   "cell_type": "markdown",
   "metadata": {},
   "source": [
    "# Data cleaning"
   ]
  },
  {
   "cell_type": "markdown",
   "metadata": {},
   "source": [
    "1. *search for NaN*"
   ]
  },
  {
   "cell_type": "code",
   "execution_count": 10,
   "metadata": {},
   "outputs": [
    {
     "data": {
      "text/plain": [
       "Vehicle ID                            0\n",
       "County GEOID                          0\n",
       "Registration Valid Date               0\n",
       "DMV ID                                0\n",
       "DMV Snapshot                          0\n",
       "Registration Expiration Date    2542443\n",
       "State Abbreviation                    0\n",
       "Geography                             0\n",
       "Vehicle Name                          0\n",
       "dtype: int64"
      ]
     },
     "execution_count": 10,
     "metadata": {},
     "output_type": "execute_result"
    }
   ],
   "source": [
    "dt.isna().sum()"
   ]
  },
  {
   "cell_type": "markdown",
   "metadata": {},
   "source": [
    "Registration Expiration Date is not available, let's drop this column. "
   ]
  },
  {
   "cell_type": "code",
   "execution_count": 11,
   "metadata": {},
   "outputs": [],
   "source": [
    "dt=dt.dropna(axis=1)"
   ]
  },
  {
   "cell_type": "code",
   "execution_count": 12,
   "metadata": {},
   "outputs": [
    {
     "name": "stdout",
     "output_type": "stream",
     "text": [
      "(2542443, 8)\n"
     ]
    }
   ],
   "source": [
    "print(dt.shape)"
   ]
  },
  {
   "cell_type": "code",
   "execution_count": 13,
   "metadata": {},
   "outputs": [
    {
     "data": {
      "text/html": [
       "<div>\n",
       "<style scoped>\n",
       "    .dataframe tbody tr th:only-of-type {\n",
       "        vertical-align: middle;\n",
       "    }\n",
       "\n",
       "    .dataframe tbody tr th {\n",
       "        vertical-align: top;\n",
       "    }\n",
       "\n",
       "    .dataframe thead th {\n",
       "        text-align: right;\n",
       "    }\n",
       "</style>\n",
       "<table border=\"1\" class=\"dataframe\">\n",
       "  <thead>\n",
       "    <tr style=\"text-align: right;\">\n",
       "      <th></th>\n",
       "      <th>Vehicle ID</th>\n",
       "      <th>County GEOID</th>\n",
       "      <th>Registration Valid Date</th>\n",
       "      <th>DMV ID</th>\n",
       "      <th>DMV Snapshot</th>\n",
       "      <th>State Abbreviation</th>\n",
       "      <th>Geography</th>\n",
       "      <th>Vehicle Name</th>\n",
       "    </tr>\n",
       "  </thead>\n",
       "  <tbody>\n",
       "    <tr>\n",
       "      <th>0</th>\n",
       "      <td>CA-002-03597\\r</td>\n",
       "      <td>06099</td>\n",
       "      <td>2011-01-01</td>\n",
       "      <td>2</td>\n",
       "      <td>CA Registration Data from CA (12/31/2011)</td>\n",
       "      <td>CA</td>\n",
       "      <td>County</td>\n",
       "      <td>Chevrolet Volt</td>\n",
       "    </tr>\n",
       "    <tr>\n",
       "      <th>1</th>\n",
       "      <td>CA-002-03598\\r</td>\n",
       "      <td>06105</td>\n",
       "      <td>2011-01-01</td>\n",
       "      <td>2</td>\n",
       "      <td>CA Registration Data from CA (12/31/2011)</td>\n",
       "      <td>CA</td>\n",
       "      <td>County</td>\n",
       "      <td>Nissan Leaf</td>\n",
       "    </tr>\n",
       "    <tr>\n",
       "      <th>2</th>\n",
       "      <td>CA-002-03599\\r</td>\n",
       "      <td>06103</td>\n",
       "      <td>2011-01-01</td>\n",
       "      <td>2</td>\n",
       "      <td>CA Registration Data from CA (12/31/2011)</td>\n",
       "      <td>CA</td>\n",
       "      <td>County</td>\n",
       "      <td>Chevrolet Volt</td>\n",
       "    </tr>\n",
       "    <tr>\n",
       "      <th>3</th>\n",
       "      <td>CA-002-03600\\r</td>\n",
       "      <td>06099</td>\n",
       "      <td>2011-01-01</td>\n",
       "      <td>2</td>\n",
       "      <td>CA Registration Data from CA (12/31/2011)</td>\n",
       "      <td>CA</td>\n",
       "      <td>County</td>\n",
       "      <td>Tesla Roadster</td>\n",
       "    </tr>\n",
       "    <tr>\n",
       "      <th>4</th>\n",
       "      <td>CA-002-03601\\r</td>\n",
       "      <td>06099</td>\n",
       "      <td>2011-01-01</td>\n",
       "      <td>2</td>\n",
       "      <td>CA Registration Data from CA (12/31/2011)</td>\n",
       "      <td>CA</td>\n",
       "      <td>County</td>\n",
       "      <td>Tesla Roadster</td>\n",
       "    </tr>\n",
       "  </tbody>\n",
       "</table>\n",
       "</div>"
      ],
      "text/plain": [
       "       Vehicle ID County GEOID Registration Valid Date  DMV ID  \\\n",
       "0  CA-002-03597\\r        06099              2011-01-01       2   \n",
       "1  CA-002-03598\\r        06105              2011-01-01       2   \n",
       "2  CA-002-03599\\r        06103              2011-01-01       2   \n",
       "3  CA-002-03600\\r        06099              2011-01-01       2   \n",
       "4  CA-002-03601\\r        06099              2011-01-01       2   \n",
       "\n",
       "                                DMV Snapshot State Abbreviation Geography  \\\n",
       "0  CA Registration Data from CA (12/31/2011)                 CA    County   \n",
       "1  CA Registration Data from CA (12/31/2011)                 CA    County   \n",
       "2  CA Registration Data from CA (12/31/2011)                 CA    County   \n",
       "3  CA Registration Data from CA (12/31/2011)                 CA    County   \n",
       "4  CA Registration Data from CA (12/31/2011)                 CA    County   \n",
       "\n",
       "     Vehicle Name  \n",
       "0  Chevrolet Volt  \n",
       "1     Nissan Leaf  \n",
       "2  Chevrolet Volt  \n",
       "3  Tesla Roadster  \n",
       "4  Tesla Roadster  "
      ]
     },
     "execution_count": 13,
     "metadata": {},
     "output_type": "execute_result"
    }
   ],
   "source": [
    "dt.head()"
   ]
  },
  {
   "cell_type": "markdown",
   "metadata": {},
   "source": [
    "# Remove columns with a unique value\n",
    "# Add this function in data cleaning class"
   ]
  },
  {
   "cell_type": "code",
   "execution_count": 14,
   "metadata": {},
   "outputs": [
    {
     "name": "stdout",
     "output_type": "stream",
     "text": [
      "removing 2 columns values with a unique value\n",
      "Before: dt.shape=(2542443, 8)\n",
      "After: dt.shape=(2542443, 6) \n",
      "\n"
     ]
    }
   ],
   "source": [
    "# Remove columns with a unique value; will also remove columns with only 0 \n",
    "print(f\"removing {sum(dt.nunique()<2)} columns values with a unique value\")\n",
    "print(f\"Before: dt.shape={dt.shape}\")\n",
    "dt=dt.loc[:,dt.nunique()>1]\n",
    "print(f\"After: dt.shape={dt.shape} \\n\")"
   ]
  },
  {
   "cell_type": "code",
   "execution_count": 15,
   "metadata": {},
   "outputs": [
    {
     "data": {
      "text/html": [
       "<div>\n",
       "<style scoped>\n",
       "    .dataframe tbody tr th:only-of-type {\n",
       "        vertical-align: middle;\n",
       "    }\n",
       "\n",
       "    .dataframe tbody tr th {\n",
       "        vertical-align: top;\n",
       "    }\n",
       "\n",
       "    .dataframe thead th {\n",
       "        text-align: right;\n",
       "    }\n",
       "</style>\n",
       "<table border=\"1\" class=\"dataframe\">\n",
       "  <thead>\n",
       "    <tr style=\"text-align: right;\">\n",
       "      <th></th>\n",
       "      <th>Vehicle ID</th>\n",
       "      <th>County GEOID</th>\n",
       "      <th>Registration Valid Date</th>\n",
       "      <th>DMV ID</th>\n",
       "      <th>DMV Snapshot</th>\n",
       "      <th>Vehicle Name</th>\n",
       "    </tr>\n",
       "  </thead>\n",
       "  <tbody>\n",
       "    <tr>\n",
       "      <th>0</th>\n",
       "      <td>CA-002-03597\\r</td>\n",
       "      <td>06099</td>\n",
       "      <td>2011-01-01</td>\n",
       "      <td>2</td>\n",
       "      <td>CA Registration Data from CA (12/31/2011)</td>\n",
       "      <td>Chevrolet Volt</td>\n",
       "    </tr>\n",
       "    <tr>\n",
       "      <th>1</th>\n",
       "      <td>CA-002-03598\\r</td>\n",
       "      <td>06105</td>\n",
       "      <td>2011-01-01</td>\n",
       "      <td>2</td>\n",
       "      <td>CA Registration Data from CA (12/31/2011)</td>\n",
       "      <td>Nissan Leaf</td>\n",
       "    </tr>\n",
       "    <tr>\n",
       "      <th>2</th>\n",
       "      <td>CA-002-03599\\r</td>\n",
       "      <td>06103</td>\n",
       "      <td>2011-01-01</td>\n",
       "      <td>2</td>\n",
       "      <td>CA Registration Data from CA (12/31/2011)</td>\n",
       "      <td>Chevrolet Volt</td>\n",
       "    </tr>\n",
       "    <tr>\n",
       "      <th>3</th>\n",
       "      <td>CA-002-03600\\r</td>\n",
       "      <td>06099</td>\n",
       "      <td>2011-01-01</td>\n",
       "      <td>2</td>\n",
       "      <td>CA Registration Data from CA (12/31/2011)</td>\n",
       "      <td>Tesla Roadster</td>\n",
       "    </tr>\n",
       "    <tr>\n",
       "      <th>4</th>\n",
       "      <td>CA-002-03601\\r</td>\n",
       "      <td>06099</td>\n",
       "      <td>2011-01-01</td>\n",
       "      <td>2</td>\n",
       "      <td>CA Registration Data from CA (12/31/2011)</td>\n",
       "      <td>Tesla Roadster</td>\n",
       "    </tr>\n",
       "  </tbody>\n",
       "</table>\n",
       "</div>"
      ],
      "text/plain": [
       "       Vehicle ID County GEOID Registration Valid Date  DMV ID  \\\n",
       "0  CA-002-03597\\r        06099              2011-01-01       2   \n",
       "1  CA-002-03598\\r        06105              2011-01-01       2   \n",
       "2  CA-002-03599\\r        06103              2011-01-01       2   \n",
       "3  CA-002-03600\\r        06099              2011-01-01       2   \n",
       "4  CA-002-03601\\r        06099              2011-01-01       2   \n",
       "\n",
       "                                DMV Snapshot    Vehicle Name  \n",
       "0  CA Registration Data from CA (12/31/2011)  Chevrolet Volt  \n",
       "1  CA Registration Data from CA (12/31/2011)     Nissan Leaf  \n",
       "2  CA Registration Data from CA (12/31/2011)  Chevrolet Volt  \n",
       "3  CA Registration Data from CA (12/31/2011)  Tesla Roadster  \n",
       "4  CA Registration Data from CA (12/31/2011)  Tesla Roadster  "
      ]
     },
     "execution_count": 15,
     "metadata": {},
     "output_type": "execute_result"
    }
   ],
   "source": [
    "dt.head()"
   ]
  },
  {
   "cell_type": "markdown",
   "metadata": {},
   "source": [
    "# We don't need Vehicle ID, DMV ID and DMV Snapshot so let's drop these columns"
   ]
  },
  {
   "cell_type": "code",
   "execution_count": 16,
   "metadata": {},
   "outputs": [
    {
     "data": {
      "text/html": [
       "<div>\n",
       "<style scoped>\n",
       "    .dataframe tbody tr th:only-of-type {\n",
       "        vertical-align: middle;\n",
       "    }\n",
       "\n",
       "    .dataframe tbody tr th {\n",
       "        vertical-align: top;\n",
       "    }\n",
       "\n",
       "    .dataframe thead th {\n",
       "        text-align: right;\n",
       "    }\n",
       "</style>\n",
       "<table border=\"1\" class=\"dataframe\">\n",
       "  <thead>\n",
       "    <tr style=\"text-align: right;\">\n",
       "      <th></th>\n",
       "      <th>County GEOID</th>\n",
       "      <th>Registration Valid Date</th>\n",
       "      <th>Vehicle Name</th>\n",
       "    </tr>\n",
       "  </thead>\n",
       "  <tbody>\n",
       "    <tr>\n",
       "      <th>0</th>\n",
       "      <td>06099</td>\n",
       "      <td>2011-01-01</td>\n",
       "      <td>Chevrolet Volt</td>\n",
       "    </tr>\n",
       "    <tr>\n",
       "      <th>1</th>\n",
       "      <td>06105</td>\n",
       "      <td>2011-01-01</td>\n",
       "      <td>Nissan Leaf</td>\n",
       "    </tr>\n",
       "    <tr>\n",
       "      <th>2</th>\n",
       "      <td>06103</td>\n",
       "      <td>2011-01-01</td>\n",
       "      <td>Chevrolet Volt</td>\n",
       "    </tr>\n",
       "    <tr>\n",
       "      <th>3</th>\n",
       "      <td>06099</td>\n",
       "      <td>2011-01-01</td>\n",
       "      <td>Tesla Roadster</td>\n",
       "    </tr>\n",
       "    <tr>\n",
       "      <th>4</th>\n",
       "      <td>06099</td>\n",
       "      <td>2011-01-01</td>\n",
       "      <td>Tesla Roadster</td>\n",
       "    </tr>\n",
       "  </tbody>\n",
       "</table>\n",
       "</div>"
      ],
      "text/plain": [
       "  County GEOID Registration Valid Date    Vehicle Name\n",
       "0        06099              2011-01-01  Chevrolet Volt\n",
       "1        06105              2011-01-01     Nissan Leaf\n",
       "2        06103              2011-01-01  Chevrolet Volt\n",
       "3        06099              2011-01-01  Tesla Roadster\n",
       "4        06099              2011-01-01  Tesla Roadster"
      ]
     },
     "execution_count": 16,
     "metadata": {},
     "output_type": "execute_result"
    }
   ],
   "source": [
    "dt=dt.drop(columns=['Vehicle ID','DMV ID','DMV Snapshot'])\n",
    "dt.head()"
   ]
  },
  {
   "cell_type": "markdown",
   "metadata": {},
   "source": [
    "# To visualize number of EV registration over the years, find the year of registration from the \"Registration Valid Date\"\n",
    "## drop the columns \"Registration Valid Date\""
   ]
  },
  {
   "cell_type": "code",
   "execution_count": 17,
   "metadata": {},
   "outputs": [
    {
     "data": {
      "text/html": [
       "<div>\n",
       "<style scoped>\n",
       "    .dataframe tbody tr th:only-of-type {\n",
       "        vertical-align: middle;\n",
       "    }\n",
       "\n",
       "    .dataframe tbody tr th {\n",
       "        vertical-align: top;\n",
       "    }\n",
       "\n",
       "    .dataframe thead th {\n",
       "        text-align: right;\n",
       "    }\n",
       "</style>\n",
       "<table border=\"1\" class=\"dataframe\">\n",
       "  <thead>\n",
       "    <tr style=\"text-align: right;\">\n",
       "      <th></th>\n",
       "      <th>County GEOID</th>\n",
       "      <th>Vehicle Name</th>\n",
       "      <th>year</th>\n",
       "    </tr>\n",
       "  </thead>\n",
       "  <tbody>\n",
       "    <tr>\n",
       "      <th>0</th>\n",
       "      <td>06099</td>\n",
       "      <td>Chevrolet Volt</td>\n",
       "      <td>2011</td>\n",
       "    </tr>\n",
       "    <tr>\n",
       "      <th>1</th>\n",
       "      <td>06105</td>\n",
       "      <td>Nissan Leaf</td>\n",
       "      <td>2011</td>\n",
       "    </tr>\n",
       "    <tr>\n",
       "      <th>2</th>\n",
       "      <td>06103</td>\n",
       "      <td>Chevrolet Volt</td>\n",
       "      <td>2011</td>\n",
       "    </tr>\n",
       "    <tr>\n",
       "      <th>3</th>\n",
       "      <td>06099</td>\n",
       "      <td>Tesla Roadster</td>\n",
       "      <td>2011</td>\n",
       "    </tr>\n",
       "    <tr>\n",
       "      <th>4</th>\n",
       "      <td>06099</td>\n",
       "      <td>Tesla Roadster</td>\n",
       "      <td>2011</td>\n",
       "    </tr>\n",
       "  </tbody>\n",
       "</table>\n",
       "</div>"
      ],
      "text/plain": [
       "  County GEOID    Vehicle Name  year\n",
       "0        06099  Chevrolet Volt  2011\n",
       "1        06105     Nissan Leaf  2011\n",
       "2        06103  Chevrolet Volt  2011\n",
       "3        06099  Tesla Roadster  2011\n",
       "4        06099  Tesla Roadster  2011"
      ]
     },
     "execution_count": 17,
     "metadata": {},
     "output_type": "execute_result"
    }
   ],
   "source": [
    "dt.insert(3,\"year\",pd.to_datetime(dt['Registration Valid Date']).dt.year.to_list())\n",
    "dt=dt.drop(columns=['Registration Valid Date'])\n",
    "dt.head()"
   ]
  },
  {
   "cell_type": "markdown",
   "metadata": {},
   "source": [
    "# Number of Registrations of EV's in CA from the year 2010 to 2020"
   ]
  },
  {
   "cell_type": "code",
   "execution_count": 18,
   "metadata": {},
   "outputs": [],
   "source": [
    "import matplotlib.pyplot as plt\n",
    "import seaborn as sns"
   ]
  },
  {
   "cell_type": "code",
   "execution_count": 19,
   "metadata": {},
   "outputs": [
    {
     "data": {
      "image/png": "[encoded data removed]",
      "text/plain": [
       "<Figure size 640x480 with 2 Axes>"
      ]
     },
     "metadata": {},
     "output_type": "display_data"
    }
   ],
   "source": [
    "fig,ax=plt.subplots()\n",
    "x=dt.year.value_counts().sort_index().index\n",
    "y=0.00001*dt.year.value_counts().sort_index()\n",
    "ax.bar(x=x,height=y,color='orange')\n",
    "ax.set_xticks(x)\n",
    "\n",
    "ax.set_xlabel('Year')\n",
    "ax.set_ylabel('Number of Registration x 100K')\n",
    "\n",
    "ax2=ax.twinx()\n",
    "ax2.plot(x,y.cumsum(),'-o',color='blue')\n",
    "ax2.spines[\"right\"].set_color(\"blue\") \n",
    "ax2.set_ylabel('Cumulative Number of Registration x 100K',color='blue')\n",
    "\n",
    "ax2.set_yticks(np.arange(0,26,5))\n",
    "ax2.set_yticklabels(labels=np.arange(0,26,5),color=\"blue\")\n",
    "\n",
    "plt.show()"
   ]
  },
  {
   "cell_type": "markdown",
   "metadata": {},
   "source": [
    "## Gradual increase in the number of EVs from 2010 to 2015\n",
    "## Number of EVs registered increased at higher rate after 2015"
   ]
  },
  {
   "cell_type": "markdown",
   "metadata": {},
   "source": [
    "# TODO:\n",
    "Top 5 EVs registered over the years\n",
    "\n",
    "County heat map"
   ]
  },
  {
   "cell_type": "markdown",
   "metadata": {},
   "source": [
    "# Let's see which 5 EVs have the largest market share"
   ]
  },
  {
   "cell_type": "code",
   "execution_count": 20,
   "metadata": {},
   "outputs": [
    {
     "data": {
      "text/plain": [
       "Chevrolet Volt           349602\n",
       "Tesla Model 3            306928\n",
       "Tesla Model S            301845\n",
       "Nissan Leaf              231254\n",
       "Toyota Prius Plug-in     187338\n",
       "                          ...  \n",
       "Bentley Bentayga             28\n",
       "Audi A8 Plug In              21\n",
       "Audi A7 Plug In               2\n",
       "Ferrari SF90 Stradale         1\n",
       "Polestar 1                    1\n",
       "Name: Vehicle Name, Length: 82, dtype: int64"
      ]
     },
     "execution_count": 20,
     "metadata": {},
     "output_type": "execute_result"
    }
   ],
   "source": [
    "dt[\"Vehicle Name\"].value_counts()"
   ]
  },
  {
   "cell_type": "markdown",
   "metadata": {},
   "source": [
    "**There are total 82 EVs in our data**\n",
    "\n",
    "*We will make a new column to find the make of the car*\n",
    "\n",
    "*Note: The first word in the column: 'Vehicle name' is the make of the car, and rest of the words make model*\n",
    "\n",
    "*let's make two new columns: Make and Model*"
   ]
  },
  {
   "cell_type": "code",
   "execution_count": 21,
   "metadata": {},
   "outputs": [
    {
     "data": {
      "text/html": [
       "<div>\n",
       "<style scoped>\n",
       "    .dataframe tbody tr th:only-of-type {\n",
       "        vertical-align: middle;\n",
       "    }\n",
       "\n",
       "    .dataframe tbody tr th {\n",
       "        vertical-align: top;\n",
       "    }\n",
       "\n",
       "    .dataframe thead th {\n",
       "        text-align: right;\n",
       "    }\n",
       "</style>\n",
       "<table border=\"1\" class=\"dataframe\">\n",
       "  <thead>\n",
       "    <tr style=\"text-align: right;\">\n",
       "      <th></th>\n",
       "      <th>County GEOID</th>\n",
       "      <th>Vehicle Name</th>\n",
       "      <th>year</th>\n",
       "      <th>Make</th>\n",
       "      <th>Model</th>\n",
       "    </tr>\n",
       "  </thead>\n",
       "  <tbody>\n",
       "    <tr>\n",
       "      <th>0</th>\n",
       "      <td>06099</td>\n",
       "      <td>Chevrolet Volt</td>\n",
       "      <td>2011</td>\n",
       "      <td>Chevrolet</td>\n",
       "      <td>Volt</td>\n",
       "    </tr>\n",
       "    <tr>\n",
       "      <th>1</th>\n",
       "      <td>06105</td>\n",
       "      <td>Nissan Leaf</td>\n",
       "      <td>2011</td>\n",
       "      <td>Nissan</td>\n",
       "      <td>Leaf</td>\n",
       "    </tr>\n",
       "    <tr>\n",
       "      <th>2</th>\n",
       "      <td>06103</td>\n",
       "      <td>Chevrolet Volt</td>\n",
       "      <td>2011</td>\n",
       "      <td>Chevrolet</td>\n",
       "      <td>Volt</td>\n",
       "    </tr>\n",
       "    <tr>\n",
       "      <th>3</th>\n",
       "      <td>06099</td>\n",
       "      <td>Tesla Roadster</td>\n",
       "      <td>2011</td>\n",
       "      <td>Tesla</td>\n",
       "      <td>Roadster</td>\n",
       "    </tr>\n",
       "    <tr>\n",
       "      <th>4</th>\n",
       "      <td>06099</td>\n",
       "      <td>Tesla Roadster</td>\n",
       "      <td>2011</td>\n",
       "      <td>Tesla</td>\n",
       "      <td>Roadster</td>\n",
       "    </tr>\n",
       "  </tbody>\n",
       "</table>\n",
       "</div>"
      ],
      "text/plain": [
       "  County GEOID    Vehicle Name  year       Make     Model\n",
       "0        06099  Chevrolet Volt  2011  Chevrolet      Volt\n",
       "1        06105     Nissan Leaf  2011     Nissan      Leaf\n",
       "2        06103  Chevrolet Volt  2011  Chevrolet      Volt\n",
       "3        06099  Tesla Roadster  2011      Tesla  Roadster\n",
       "4        06099  Tesla Roadster  2011      Tesla  Roadster"
      ]
     },
     "execution_count": 21,
     "metadata": {},
     "output_type": "execute_result"
    }
   ],
   "source": [
    "dt[\"Make\"]=dt['Vehicle Name'].apply(lambda s:s.split()[0])\n",
    "dt[\"Model\"]=dt['Vehicle Name'].apply(lambda s:''.join(s.split()[1:]))\n",
    "dt.head()"
   ]
  },
  {
   "cell_type": "code",
   "execution_count": 22,
   "metadata": {},
   "outputs": [
    {
     "name": "stdout",
     "output_type": "stream",
     "text": [
      "(31,)\n"
     ]
    },
    {
     "data": {
      "text/plain": [
       "Tesla         735800\n",
       "Chevrolet     470319\n",
       "Toyota        311042\n",
       "Ford          242755\n",
       "Nissan        231254\n",
       "BMW           157138\n",
       "Fiat           87449\n",
       "Honda          57403\n",
       "Volkswagen     45446\n",
       "Mercedes       31449\n",
       "Kia            30549\n",
       "Audi           30004\n",
       "Hyundai        24769\n",
       "Chrysler       17741\n",
       "Smart          16600\n",
       "Volvo          14510\n",
       "Porsche        13406\n",
       "Mitsubishi      7771\n",
       "Cadillac        4000\n",
       "Subaru          3332\n",
       "Fisker          2841\n",
       "Jaguar          2441\n",
       "Mini            2377\n",
       "Land             758\n",
       "Scion            537\n",
       "Karma            279\n",
       "Lincoln          243\n",
       "Mclaren          131\n",
       "Polestar          70\n",
       "Bentley           28\n",
       "Ferrari            1\n",
       "Name: Make, dtype: int64"
      ]
     },
     "execution_count": 22,
     "metadata": {},
     "output_type": "execute_result"
    }
   ],
   "source": [
    "print(dt.Make.value_counts().shape)\n",
    "dt['Make'].value_counts()\n"
   ]
  },
  {
   "cell_type": "markdown",
   "metadata": {},
   "source": [
    "# There are 31 different EV companies in our data\n",
    "# Let's calculate the market share of each company over the years"
   ]
  },
  {
   "cell_type": "code",
   "execution_count": 23,
   "metadata": {},
   "outputs": [],
   "source": [
    "# dt.groupby('year').apply(lambda x : x.sort_values(by = 'value', ascending = False).head(2).reset_index(drop = True))\n",
    "df_year_make=pd.crosstab(dt.year,dt.Make)"
   ]
  },
  {
   "cell_type": "code",
   "execution_count": 40,
   "metadata": {},
   "outputs": [
    {
     "data": {
      "image/png": "[encoded data removed]",
      "text/plain": [
       "<Figure size 1400x1200 with 11 Axes>"
      ]
     },
     "metadata": {},
     "output_type": "display_data"
    }
   ],
   "source": [
    "nr_rows = 4\n",
    "nr_cols = 4\n",
    "sns.set(style='white')\n",
    "fig, axs = plt.subplots(nr_rows, nr_cols, figsize=(nr_cols*3.5,nr_rows*3))\n",
    "\n",
    "for r in range(0,nr_rows):\n",
    "    \n",
    "    for c in range(0,nr_cols):  \n",
    "        i = r*nr_cols+c\n",
    "        \n",
    "        if i < len(df_year_make):\n",
    "            year=df_year_make.index[i]\n",
    "            df=100*df_year_make.iloc[i].sort_values(ascending=False)[:3]/df_year_make.iloc[i].sum()\n",
    "            # print(df.values)\n",
    "            axs[r][c].bar(x=df.index.to_list(),height=df.values)\n",
    "            # sns.distplot(x=X[descriptors[i]],color=\"green\", ax = axs[r][c],bins=40,kde=True)\n",
    "        #     # print()\n",
    "            axs[r][c].set_xlabel(year)\n",
    "        else:\n",
    "            fig.delaxes(axs[r][c])\n",
    "            \n",
    "plt.tight_layout()    \n",
    "# # plt.savefig(\"./Figures/Ered_desc2.png\",dpi=300)\n",
    "plt.show()  "
   ]
  },
  {
   "cell_type": "code",
   "execution_count": null,
   "metadata": {},
   "outputs": [],
   "source": []
  }
 ],
 "metadata": {
  "kernelspec": {
   "display_name": "Python 3.8.5 ('datascience')",
   "language": "python",
   "name": "python3"
  },
  "language_info": {
   "codemirror_mode": {
    "name": "ipython",
    "version": 3
   },
   "file_extension": ".py",
   "mimetype": "text/x-python",
   "name": "python",
   "nbconvert_exporter": "python",
   "pygments_lexer": "ipython3",
   "version": "3.8.5"
  },
  "orig_nbformat": 4,
  "vscode": {
   "interpreter": {
    "hash": "2cf516c5321dd80bd2564d2a5c6ec8f6bd620ea7e965d0c83a9c93b6af01237f"
   }
  }
 },
 "nbformat": 4,
 "nbformat_minor": 2
}
