{
 "cells": [
  {
   "cell_type": "markdown",
   "metadata": {},
   "source": [
    "# Data acquisition notebook\n",
    "## CT State EV registration data"
   ]
  },
  {
   "cell_type": "code",
   "execution_count": 33,
   "metadata": {},
   "outputs": [],
   "source": [
    "import pandas as pd \n",
    "import warnings\n",
    "warnings.filterwarnings(\"ignore\")\n",
    "import numpy as np\n",
    "import requests\n",
    "from bs4 import BeautifulSoup"
   ]
  },
  {
   "cell_type": "markdown",
   "metadata": {},
   "source": [
    "# Get data from the url "
   ]
  },
  {
   "cell_type": "code",
   "execution_count": 34,
   "metadata": {},
   "outputs": [],
   "source": [
    "url = 'https://www.atlasevhub.com/materials/state-ev-registration-data/#data'\n",
    "reqs = requests.get(url)\n",
    "soup = BeautifulSoup(reqs.text, 'html.parser')"
   ]
  },
  {
   "cell_type": "code",
   "execution_count": 35,
   "metadata": {},
   "outputs": [],
   "source": [
    "links=[link.get('href') for link in soup.find_all('a') ]\n",
    "data=[i for i in links if len(i.split('/'))>1 and i.split('/')[1]=='public']\n",
    "data=[i for i in data if i.split('.')[-1]=='csv']\n",
    "state_name=[i.split('/')[3].split('_')[0].upper() for i in data]"
   ]
  },
  {
   "cell_type": "code",
   "execution_count": 55,
   "metadata": {},
   "outputs": [
    {
     "name": "stdout",
     "output_type": "stream",
     "text": [
      "['CA', 'CO', 'CT', 'FL', 'MT', 'MI', 'MN', 'NJ', 'NY', 'OR', 'TN', 'TX', 'VT', 'VA', 'WA', 'WI']\n"
     ]
    }
   ],
   "source": [
    "print(state_name)"
   ]
  },
  {
   "cell_type": "code",
   "execution_count": 36,
   "metadata": {},
   "outputs": [],
   "source": [
    "dt=pd.read_csv('https://www.atlasevhub.com/'+data[0])"
   ]
  },
  {
   "cell_type": "code",
   "execution_count": 37,
   "metadata": {},
   "outputs": [
    {
     "name": "stdout",
     "output_type": "stream",
     "text": [
      "<class 'pandas.core.frame.DataFrame'>\n",
      "RangeIndex: 2542443 entries, 0 to 2542442\n",
      "Data columns (total 9 columns):\n",
      " #   Column                        Dtype  \n",
      "---  ------                        -----  \n",
      " 0   Vehicle ID                    object \n",
      " 1   County GEOID                  object \n",
      " 2   Registration Valid Date       object \n",
      " 3   DMV ID                        int64  \n",
      " 4   DMV Snapshot                  object \n",
      " 5   Registration Expiration Date  float64\n",
      " 6   State Abbreviation            object \n",
      " 7   Geography                     object \n",
      " 8   Vehicle Name                  object \n",
      "dtypes: float64(1), int64(1), object(7)\n",
      "memory usage: 174.6+ MB\n"
     ]
    }
   ],
   "source": [
    "dt.info()"
   ]
  },
  {
   "cell_type": "code",
   "execution_count": 38,
   "metadata": {},
   "outputs": [
    {
     "data": {
      "text/html": [
       "<div>\n",
       "<style scoped>\n",
       "    .dataframe tbody tr th:only-of-type {\n",
       "        vertical-align: middle;\n",
       "    }\n",
       "\n",
       "    .dataframe tbody tr th {\n",
       "        vertical-align: top;\n",
       "    }\n",
       "\n",
       "    .dataframe thead th {\n",
       "        text-align: right;\n",
       "    }\n",
       "</style>\n",
       "<table border=\"1\" class=\"dataframe\">\n",
       "  <thead>\n",
       "    <tr style=\"text-align: right;\">\n",
       "      <th></th>\n",
       "      <th>Vehicle ID</th>\n",
       "      <th>County GEOID</th>\n",
       "      <th>Registration Valid Date</th>\n",
       "      <th>DMV ID</th>\n",
       "      <th>DMV Snapshot</th>\n",
       "      <th>Registration Expiration Date</th>\n",
       "      <th>State Abbreviation</th>\n",
       "      <th>Geography</th>\n",
       "      <th>Vehicle Name</th>\n",
       "    </tr>\n",
       "  </thead>\n",
       "  <tbody>\n",
       "    <tr>\n",
       "      <th>0</th>\n",
       "      <td>CA-002-03597\\r</td>\n",
       "      <td>06099</td>\n",
       "      <td>2011-01-01</td>\n",
       "      <td>2</td>\n",
       "      <td>CA Registration Data from CA (12/31/2011)</td>\n",
       "      <td>NaN</td>\n",
       "      <td>CA</td>\n",
       "      <td>County</td>\n",
       "      <td>Chevrolet Volt</td>\n",
       "    </tr>\n",
       "    <tr>\n",
       "      <th>1</th>\n",
       "      <td>CA-002-03598\\r</td>\n",
       "      <td>06105</td>\n",
       "      <td>2011-01-01</td>\n",
       "      <td>2</td>\n",
       "      <td>CA Registration Data from CA (12/31/2011)</td>\n",
       "      <td>NaN</td>\n",
       "      <td>CA</td>\n",
       "      <td>County</td>\n",
       "      <td>Nissan Leaf</td>\n",
       "    </tr>\n",
       "    <tr>\n",
       "      <th>2</th>\n",
       "      <td>CA-002-03599\\r</td>\n",
       "      <td>06103</td>\n",
       "      <td>2011-01-01</td>\n",
       "      <td>2</td>\n",
       "      <td>CA Registration Data from CA (12/31/2011)</td>\n",
       "      <td>NaN</td>\n",
       "      <td>CA</td>\n",
       "      <td>County</td>\n",
       "      <td>Chevrolet Volt</td>\n",
       "    </tr>\n",
       "    <tr>\n",
       "      <th>3</th>\n",
       "      <td>CA-002-03600\\r</td>\n",
       "      <td>06099</td>\n",
       "      <td>2011-01-01</td>\n",
       "      <td>2</td>\n",
       "      <td>CA Registration Data from CA (12/31/2011)</td>\n",
       "      <td>NaN</td>\n",
       "      <td>CA</td>\n",
       "      <td>County</td>\n",
       "      <td>Tesla Roadster</td>\n",
       "    </tr>\n",
       "    <tr>\n",
       "      <th>4</th>\n",
       "      <td>CA-002-03601\\r</td>\n",
       "      <td>06099</td>\n",
       "      <td>2011-01-01</td>\n",
       "      <td>2</td>\n",
       "      <td>CA Registration Data from CA (12/31/2011)</td>\n",
       "      <td>NaN</td>\n",
       "      <td>CA</td>\n",
       "      <td>County</td>\n",
       "      <td>Tesla Roadster</td>\n",
       "    </tr>\n",
       "  </tbody>\n",
       "</table>\n",
       "</div>"
      ],
      "text/plain": [
       "       Vehicle ID County GEOID Registration Valid Date  DMV ID  \\\n",
       "0  CA-002-03597\\r        06099              2011-01-01       2   \n",
       "1  CA-002-03598\\r        06105              2011-01-01       2   \n",
       "2  CA-002-03599\\r        06103              2011-01-01       2   \n",
       "3  CA-002-03600\\r        06099              2011-01-01       2   \n",
       "4  CA-002-03601\\r        06099              2011-01-01       2   \n",
       "\n",
       "                                DMV Snapshot  Registration Expiration Date  \\\n",
       "0  CA Registration Data from CA (12/31/2011)                           NaN   \n",
       "1  CA Registration Data from CA (12/31/2011)                           NaN   \n",
       "2  CA Registration Data from CA (12/31/2011)                           NaN   \n",
       "3  CA Registration Data from CA (12/31/2011)                           NaN   \n",
       "4  CA Registration Data from CA (12/31/2011)                           NaN   \n",
       "\n",
       "  State Abbreviation Geography    Vehicle Name  \n",
       "0                 CA    County  Chevrolet Volt  \n",
       "1                 CA    County     Nissan Leaf  \n",
       "2                 CA    County  Chevrolet Volt  \n",
       "3                 CA    County  Tesla Roadster  \n",
       "4                 CA    County  Tesla Roadster  "
      ]
     },
     "execution_count": 38,
     "metadata": {},
     "output_type": "execute_result"
    }
   ],
   "source": [
    "dt.head()"
   ]
  },
  {
   "cell_type": "code",
   "execution_count": null,
   "metadata": {},
   "outputs": [],
   "source": []
  }
 ],
 "metadata": {
  "kernelspec": {
   "display_name": "Python 3.8.5 ('datascience')",
   "language": "python",
   "name": "python3"
  },
  "language_info": {
   "codemirror_mode": {
    "name": "ipython",
    "version": 3
   },
   "file_extension": ".py",
   "mimetype": "text/x-python",
   "name": "python",
   "nbconvert_exporter": "python",
   "pygments_lexer": "ipython3",
   "version": "3.8.5"
  },
  "orig_nbformat": 4,
  "vscode": {
   "interpreter": {
    "hash": "2cf516c5321dd80bd2564d2a5c6ec8f6bd620ea7e965d0c83a9c93b6af01237f"
   }
  }
 },
 "nbformat": 4,
 "nbformat_minor": 2
}
